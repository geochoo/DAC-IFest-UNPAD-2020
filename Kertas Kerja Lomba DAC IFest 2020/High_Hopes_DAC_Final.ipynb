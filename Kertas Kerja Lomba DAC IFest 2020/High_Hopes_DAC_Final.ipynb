{
  "nbformat": 4,
  "nbformat_minor": 0,
  "metadata": {
    "colab": {
      "name": "High Hopes DAC Final.ipynb",
      "provenance": []
    },
    "kernelspec": {
      "name": "python3",
      "display_name": "Python 3"
    }
  },
  "cells": [
    {
      "cell_type": "markdown",
      "metadata": {
        "id": "udx3dSp9Jweg"
      },
      "source": [
        "**Coretan Python Final DAC IFEST 2020**"
      ]
    },
    {
      "cell_type": "markdown",
      "metadata": {
        "id": "0r6tgh19KE7k"
      },
      "source": [
        "Tim High Hopes (Politeknik Keuangan Negara STAN)\n",
        "\n",
        "*   George Budi Eka Dharma, D3 Pajak 2017\n",
        "*   Natasya Gloria Rajagukguk, D3 Pajak 2017\n",
        "*   Jessica Xaviera, D3 Pajak 2017\n",
        "\n",
        "\n",
        "\n",
        "\n"
      ]
    },
    {
      "cell_type": "markdown",
      "metadata": {
        "id": "l2v2iqNHKjt1"
      },
      "source": [
        "Masalah yang harus dipecahkan oleh tim\n",
        "\n",
        "> Melakukan pengelompokan jenis customer pada DQLab Store dan memberikan perlakuan atau rekomendasi yang sesuai pada kelompok tersebut\n",
        "\n",
        "\n",
        "\n",
        "Beberapa hal yang perlu diketahui:\n",
        "\n",
        "*   Dalam menghadapi final kami menggunakan Python, MySQL, dan Microsoft Excel, dengan penggunaan SQL secara dominan (~70%)\n",
        "*   Kertas kerja ini hanya berperan sebagai kertas coretan dalam membuat analisis dengan produk akhir berupa file presentasi (.ppt/.pdf)\n",
        "*   Kami menggunakan metode Exploratory Data Analysis (EDA) secara umum\n",
        "*   Kami tidak menggunakan metode clustering seperti kelompok lainnya dikarenakan menurut kelompok kami, dataset yang diberikan tidak memberikan feature yang cukup muktahir untuk dilakukan proses tersebut\n",
        "*   Selain itu, dari penggunaan EDA, diketahui bahwa kelompok customer kurang begitu beragam\n",
        "\n",
        "Babak final hari pertama dilakukan selama 4 (empat) jam termasuk pengumpulan hasil presentasi yang akan dipresentasikan pada babak final hari kedua\n",
        "\n"
      ]
    },
    {
      "cell_type": "markdown",
      "metadata": {
        "id": "nIubO03U6ELq"
      },
      "source": [
        "Import Libraries"
      ]
    },
    {
      "cell_type": "code",
      "metadata": {
        "id": "2Cpaxlk76Djz"
      },
      "source": [
        "import pandas as pd\n",
        "import matplotlib.pyplot as plt\n",
        "import datetime\n",
        "import seaborn as sns\n",
        "import numpy as np"
      ],
      "execution_count": null,
      "outputs": []
    },
    {
      "cell_type": "markdown",
      "metadata": {
        "id": "sMMIKThZRHJb"
      },
      "source": [
        "Performa DQLab Store\n",
        "\n",
        "\n",
        "> Kami menarik informasi performa DQLab selama dua tahun beroperasi dengan mencari:\n",
        "*   Pendapatan kotor yang terjadi di DQLab Store\n",
        "*   Diskon yang DQLab Store/Seller berikan\n",
        "*   Pendapatan bersih yang diterima oleh Seller\n",
        "*   Jumlah order yang terjadi di DQLab Store\n",
        "*   Jumlah customer DQLab Store\n"
      ]
    },
    {
      "cell_type": "code",
      "metadata": {
        "id": "Arz3oMZkY5Md",
        "colab": {
          "base_uri": "https://localhost:8080/",
          "height": 374
        },
        "outputId": "19c6a325-2e70-4d15-d89d-5567ad943542"
      },
      "source": [
        "ord = pd.read_csv('orders.csv', sep=';')\n",
        "display(ord.head())\n",
        "print('jumlah subtotal:\\n', ord['subtotal'].sum())\n",
        "print('jumlah discount:\\n', ord['discount'].sum())\n",
        "print('jumlah total:\\n', ord['total'].sum())\n",
        "print('jumlah order:\\n', ord['order_id'].nunique())\n",
        "print('jumlah customer:\\n', ord['buyer_id'].nunique())"
      ],
      "execution_count": null,
      "outputs": [
        {
          "output_type": "display_data",
          "data": {
            "text/html": [
              "<div>\n",
              "<style scoped>\n",
              "    .dataframe tbody tr th:only-of-type {\n",
              "        vertical-align: middle;\n",
              "    }\n",
              "\n",
              "    .dataframe tbody tr th {\n",
              "        vertical-align: top;\n",
              "    }\n",
              "\n",
              "    .dataframe thead th {\n",
              "        text-align: right;\n",
              "    }\n",
              "</style>\n",
              "<table border=\"1\" class=\"dataframe\">\n",
              "  <thead>\n",
              "    <tr style=\"text-align: right;\">\n",
              "      <th></th>\n",
              "      <th>order_id</th>\n",
              "      <th>seller_id</th>\n",
              "      <th>buyer_id</th>\n",
              "      <th>kodepos</th>\n",
              "      <th>subtotal</th>\n",
              "      <th>discount</th>\n",
              "      <th>total</th>\n",
              "      <th>created_at</th>\n",
              "      <th>paid_at</th>\n",
              "      <th>delivery_at</th>\n",
              "    </tr>\n",
              "  </thead>\n",
              "  <tbody>\n",
              "    <tr>\n",
              "      <th>0</th>\n",
              "      <td>3</td>\n",
              "      <td>5</td>\n",
              "      <td>4769</td>\n",
              "      <td>32610</td>\n",
              "      <td>900000</td>\n",
              "      <td>0</td>\n",
              "      <td>900000</td>\n",
              "      <td>2019-06-01</td>\n",
              "      <td>2019-06-04</td>\n",
              "      <td>2019-06-12</td>\n",
              "    </tr>\n",
              "    <tr>\n",
              "      <th>1</th>\n",
              "      <td>5</td>\n",
              "      <td>23</td>\n",
              "      <td>4276</td>\n",
              "      <td>2674</td>\n",
              "      <td>220000</td>\n",
              "      <td>0</td>\n",
              "      <td>220000</td>\n",
              "      <td>2019-04-02</td>\n",
              "      <td>2019-04-05</td>\n",
              "      <td>2019-04-09</td>\n",
              "    </tr>\n",
              "    <tr>\n",
              "      <th>2</th>\n",
              "      <td>8</td>\n",
              "      <td>4</td>\n",
              "      <td>14110</td>\n",
              "      <td>48577</td>\n",
              "      <td>1248000</td>\n",
              "      <td>0</td>\n",
              "      <td>1248000</td>\n",
              "      <td>2019-08-02</td>\n",
              "      <td>2019-08-13</td>\n",
              "      <td>2019-08-20</td>\n",
              "    </tr>\n",
              "    <tr>\n",
              "      <th>3</th>\n",
              "      <td>19</td>\n",
              "      <td>5</td>\n",
              "      <td>3831</td>\n",
              "      <td>91235</td>\n",
              "      <td>1074000</td>\n",
              "      <td>0</td>\n",
              "      <td>1074000</td>\n",
              "      <td>2020-05-16</td>\n",
              "      <td>NaN</td>\n",
              "      <td>NaN</td>\n",
              "    </tr>\n",
              "    <tr>\n",
              "      <th>4</th>\n",
              "      <td>31</td>\n",
              "      <td>46</td>\n",
              "      <td>5318</td>\n",
              "      <td>96740</td>\n",
              "      <td>253000</td>\n",
              "      <td>0</td>\n",
              "      <td>253000</td>\n",
              "      <td>2019-03-12</td>\n",
              "      <td>2019-03-17</td>\n",
              "      <td>2019-03-20</td>\n",
              "    </tr>\n",
              "  </tbody>\n",
              "</table>\n",
              "</div>"
            ],
            "text/plain": [
              "   order_id  seller_id  buyer_id  ...  created_at     paid_at  delivery_at\n",
              "0         3          5      4769  ...  2019-06-01  2019-06-04   2019-06-12\n",
              "1         5         23      4276  ...  2019-04-02  2019-04-05   2019-04-09\n",
              "2         8          4     14110  ...  2019-08-02  2019-08-13   2019-08-20\n",
              "3        19          5      3831  ...  2020-05-16         NaN          NaN\n",
              "4        31         46      5318  ...  2019-03-12  2019-03-17   2019-03-20\n",
              "\n",
              "[5 rows x 10 columns]"
            ]
          },
          "metadata": {
            "tags": []
          }
        },
        {
          "output_type": "stream",
          "text": [
            "jumlah subtotal:\n",
            " 150212823000\n",
            "jumlah discount:\n",
            " 1213710550\n",
            "jumlah total:\n",
            " 148863229450\n",
            "jumlah order:\n",
            " 74874\n",
            "jumlah customer:\n",
            " 17877\n"
          ],
          "name": "stdout"
        }
      ]
    },
    {
      "cell_type": "markdown",
      "metadata": {
        "id": "MfeWoNExfD5W"
      },
      "source": [
        "Kontribusi jenis produk ke penjualan\n",
        "\n",
        "> Kami mencari jenis produk apa yang memberikan sales tertinggi (sebelum diskon)\n",
        "\n"
      ]
    },
    {
      "cell_type": "code",
      "metadata": {
        "id": "L7Scj_eqbB_P",
        "colab": {
          "base_uri": "https://localhost:8080/",
          "height": 785
        },
        "outputId": "f6440a40-2a8f-4793-ac8c-0f219f9834ac"
      },
      "source": [
        "odt = pd.read_csv('order_details.csv', sep=';')\n",
        "display(odt.head())\n",
        "odt['subtotal_odt'] = odt['price']*odt['quantity']\n",
        "odt_pro = pd.merge(left=odt, right=pro, how='inner', left_on='product_id', right_on='product_id')\n",
        "display(odt_pro.head())\n",
        "#bar plot\n",
        "plt.clf()\n",
        "odt_pro.groupby('category')['subtotal_odt'].nunique().sort_values(ascending=False).head(5).plot(kind='bar', color='purple')\n",
        "plt.title('Product Category Contribution to Sales',loc='center',pad=30, fontsize=15, color='purple')\n",
        "plt.xlabel('Product Category', fontsize = 15)\n",
        "plt.ylabel('Sales',fontsize = 15)\n",
        "plt.ylim(ymin=0)\n",
        "plt.xticks(rotation=0)\n",
        "plt.savefig('category to sales.png') \n",
        "plt.show()"
      ],
      "execution_count": null,
      "outputs": [
        {
          "output_type": "display_data",
          "data": {
            "text/html": [
              "<div>\n",
              "<style scoped>\n",
              "    .dataframe tbody tr th:only-of-type {\n",
              "        vertical-align: middle;\n",
              "    }\n",
              "\n",
              "    .dataframe tbody tr th {\n",
              "        vertical-align: top;\n",
              "    }\n",
              "\n",
              "    .dataframe thead th {\n",
              "        text-align: right;\n",
              "    }\n",
              "</style>\n",
              "<table border=\"1\" class=\"dataframe\">\n",
              "  <thead>\n",
              "    <tr style=\"text-align: right;\">\n",
              "      <th></th>\n",
              "      <th>order_detail_id</th>\n",
              "      <th>order_id</th>\n",
              "      <th>product_id</th>\n",
              "      <th>price</th>\n",
              "      <th>quantity</th>\n",
              "    </tr>\n",
              "  </thead>\n",
              "  <tbody>\n",
              "    <tr>\n",
              "      <th>0</th>\n",
              "      <td>5</td>\n",
              "      <td>3</td>\n",
              "      <td>907</td>\n",
              "      <td>25000</td>\n",
              "      <td>36</td>\n",
              "    </tr>\n",
              "    <tr>\n",
              "      <th>1</th>\n",
              "      <td>9</td>\n",
              "      <td>5</td>\n",
              "      <td>562</td>\n",
              "      <td>10000</td>\n",
              "      <td>22</td>\n",
              "    </tr>\n",
              "    <tr>\n",
              "      <th>2</th>\n",
              "      <td>15</td>\n",
              "      <td>8</td>\n",
              "      <td>645</td>\n",
              "      <td>39000</td>\n",
              "      <td>32</td>\n",
              "    </tr>\n",
              "    <tr>\n",
              "      <th>3</th>\n",
              "      <td>48</td>\n",
              "      <td>19</td>\n",
              "      <td>287</td>\n",
              "      <td>22000</td>\n",
              "      <td>12</td>\n",
              "    </tr>\n",
              "    <tr>\n",
              "      <th>4</th>\n",
              "      <td>49</td>\n",
              "      <td>19</td>\n",
              "      <td>201</td>\n",
              "      <td>26000</td>\n",
              "      <td>27</td>\n",
              "    </tr>\n",
              "  </tbody>\n",
              "</table>\n",
              "</div>"
            ],
            "text/plain": [
              "   order_detail_id  order_id  product_id  price  quantity\n",
              "0                5         3         907  25000        36\n",
              "1                9         5         562  10000        22\n",
              "2               15         8         645  39000        32\n",
              "3               48        19         287  22000        12\n",
              "4               49        19         201  26000        27"
            ]
          },
          "metadata": {
            "tags": []
          }
        },
        {
          "output_type": "display_data",
          "data": {
            "text/html": [
              "<div>\n",
              "<style scoped>\n",
              "    .dataframe tbody tr th:only-of-type {\n",
              "        vertical-align: middle;\n",
              "    }\n",
              "\n",
              "    .dataframe tbody tr th {\n",
              "        vertical-align: top;\n",
              "    }\n",
              "\n",
              "    .dataframe thead th {\n",
              "        text-align: right;\n",
              "    }\n",
              "</style>\n",
              "<table border=\"1\" class=\"dataframe\">\n",
              "  <thead>\n",
              "    <tr style=\"text-align: right;\">\n",
              "      <th></th>\n",
              "      <th>order_detail_id</th>\n",
              "      <th>order_id</th>\n",
              "      <th>product_id</th>\n",
              "      <th>price</th>\n",
              "      <th>quantity</th>\n",
              "      <th>subtotal_odt</th>\n",
              "      <th>desc_product</th>\n",
              "      <th>category</th>\n",
              "      <th>base_price</th>\n",
              "    </tr>\n",
              "  </thead>\n",
              "  <tbody>\n",
              "    <tr>\n",
              "      <th>0</th>\n",
              "      <td>5</td>\n",
              "      <td>3</td>\n",
              "      <td>907</td>\n",
              "      <td>25000</td>\n",
              "      <td>36</td>\n",
              "      <td>900000</td>\n",
              "      <td>Citra Fresh Glow Multifunction Gel Coconut Nou...</td>\n",
              "      <td>Kebersihan Diri</td>\n",
              "      <td>25000</td>\n",
              "    </tr>\n",
              "    <tr>\n",
              "      <th>1</th>\n",
              "      <td>34433</td>\n",
              "      <td>9578</td>\n",
              "      <td>907</td>\n",
              "      <td>25000</td>\n",
              "      <td>24</td>\n",
              "      <td>600000</td>\n",
              "      <td>Citra Fresh Glow Multifunction Gel Coconut Nou...</td>\n",
              "      <td>Kebersihan Diri</td>\n",
              "      <td>25000</td>\n",
              "    </tr>\n",
              "    <tr>\n",
              "      <th>2</th>\n",
              "      <td>79700</td>\n",
              "      <td>22162</td>\n",
              "      <td>907</td>\n",
              "      <td>25000</td>\n",
              "      <td>37</td>\n",
              "      <td>925000</td>\n",
              "      <td>Citra Fresh Glow Multifunction Gel Coconut Nou...</td>\n",
              "      <td>Kebersihan Diri</td>\n",
              "      <td>25000</td>\n",
              "    </tr>\n",
              "    <tr>\n",
              "      <th>3</th>\n",
              "      <td>83128</td>\n",
              "      <td>23136</td>\n",
              "      <td>907</td>\n",
              "      <td>25000</td>\n",
              "      <td>23</td>\n",
              "      <td>575000</td>\n",
              "      <td>Citra Fresh Glow Multifunction Gel Coconut Nou...</td>\n",
              "      <td>Kebersihan Diri</td>\n",
              "      <td>25000</td>\n",
              "    </tr>\n",
              "    <tr>\n",
              "      <th>4</th>\n",
              "      <td>83129</td>\n",
              "      <td>23136</td>\n",
              "      <td>907</td>\n",
              "      <td>25000</td>\n",
              "      <td>23</td>\n",
              "      <td>575000</td>\n",
              "      <td>Citra Fresh Glow Multifunction Gel Coconut Nou...</td>\n",
              "      <td>Kebersihan Diri</td>\n",
              "      <td>25000</td>\n",
              "    </tr>\n",
              "  </tbody>\n",
              "</table>\n",
              "</div>"
            ],
            "text/plain": [
              "   order_detail_id  order_id  ...         category  base_price\n",
              "0                5         3  ...  Kebersihan Diri       25000\n",
              "1            34433      9578  ...  Kebersihan Diri       25000\n",
              "2            79700     22162  ...  Kebersihan Diri       25000\n",
              "3            83128     23136  ...  Kebersihan Diri       25000\n",
              "4            83129     23136  ...  Kebersihan Diri       25000\n",
              "\n",
              "[5 rows x 9 columns]"
            ]
          },
          "metadata": {
            "tags": []
          }
        },
        {
          "output_type": "display_data",
          "data": {
            "image/png": "[encoded data removed]",
            "text/plain": [
              "<Figure size 432x288 with 1 Axes>"
            ]
          },
          "metadata": {
            "tags": [],
            "needs_background": "light"
          }
        }
      ]
    },
    {
      "cell_type": "markdown",
      "metadata": {
        "id": "67_xZCckgXls"
      },
      "source": [
        "Kategori produk\n",
        "\n",
        "> Kami mencari jumlah kategori produk\n",
        "\n"
      ]
    },
    {
      "cell_type": "code",
      "metadata": {
        "id": "aVtdEezCgZ5a",
        "colab": {
          "base_uri": "https://localhost:8080/",
          "height": 238
        },
        "outputId": "e430a808-6f0c-4112-8d6f-811d9bb9090d"
      },
      "source": [
        "pro = pd.read_csv('products.csv', sep=';')\n",
        "display(pro.head())\n",
        "print('Kategori produk:\\n', pro['category'].nunique())"
      ],
      "execution_count": null,
      "outputs": [
        {
          "output_type": "display_data",
          "data": {
            "text/html": [
              "<div>\n",
              "<style scoped>\n",
              "    .dataframe tbody tr th:only-of-type {\n",
              "        vertical-align: middle;\n",
              "    }\n",
              "\n",
              "    .dataframe tbody tr th {\n",
              "        vertical-align: top;\n",
              "    }\n",
              "\n",
              "    .dataframe thead th {\n",
              "        text-align: right;\n",
              "    }\n",
              "</style>\n",
              "<table border=\"1\" class=\"dataframe\">\n",
              "  <thead>\n",
              "    <tr style=\"text-align: right;\">\n",
              "      <th></th>\n",
              "      <th>product_id</th>\n",
              "      <th>desc_product</th>\n",
              "      <th>category</th>\n",
              "      <th>base_price</th>\n",
              "    </tr>\n",
              "  </thead>\n",
              "  <tbody>\n",
              "    <tr>\n",
              "      <th>0</th>\n",
              "      <td>1</td>\n",
              "      <td>OLIVIA KULOT OLV03</td>\n",
              "      <td>Pakaian Wanita</td>\n",
              "      <td>110000</td>\n",
              "    </tr>\n",
              "    <tr>\n",
              "      <th>1</th>\n",
              "      <td>2</td>\n",
              "      <td>BLANIK BLOUSE BL304</td>\n",
              "      <td>Pakaian Wanita</td>\n",
              "      <td>100000</td>\n",
              "    </tr>\n",
              "    <tr>\n",
              "      <th>2</th>\n",
              "      <td>3</td>\n",
              "      <td>NEW DAY BY RIX DRESS ND01</td>\n",
              "      <td>Pakaian Wanita</td>\n",
              "      <td>85000</td>\n",
              "    </tr>\n",
              "    <tr>\n",
              "      <th>3</th>\n",
              "      <td>4</td>\n",
              "      <td>BLANIK BLOUSE BL023</td>\n",
              "      <td>Pakaian Wanita</td>\n",
              "      <td>85000</td>\n",
              "    </tr>\n",
              "    <tr>\n",
              "      <th>4</th>\n",
              "      <td>5</td>\n",
              "      <td>BLANIK BLAZER BL031</td>\n",
              "      <td>Pakaian Wanita</td>\n",
              "      <td>99000</td>\n",
              "    </tr>\n",
              "  </tbody>\n",
              "</table>\n",
              "</div>"
            ],
            "text/plain": [
              "   product_id                desc_product        category  base_price\n",
              "0           1         OLIVIA KULOT OLV03   Pakaian Wanita      110000\n",
              "1           2        BLANIK BLOUSE BL304   Pakaian Wanita      100000\n",
              "2           3  NEW DAY BY RIX DRESS ND01   Pakaian Wanita       85000\n",
              "3           4        BLANIK BLOUSE BL023   Pakaian Wanita       85000\n",
              "4           5        BLANIK BLAZER BL031   Pakaian Wanita       99000"
            ]
          },
          "metadata": {
            "tags": []
          }
        },
        {
          "output_type": "stream",
          "text": [
            "Kategori produk:\n",
            " 12\n"
          ],
          "name": "stdout"
        }
      ]
    },
    {
      "cell_type": "markdown",
      "metadata": {
        "id": "W8Nswb_PrYcE"
      },
      "source": [
        "Frekuensi pembelian per customer\n",
        "\n",
        "> Kami mencari tahu seberapa sering customer melakukan pembelian di DQLab Store.Dsini kami juga mencari tahu seberapa besar orang yang hanya melakukan pembelian sebanyak 1 (satu) kali atau *one-time buyer* yang dapat memberikan temuan akan masalah yang mungkin terjadi pada DQLab Store\n",
        "\n"
      ]
    },
    {
      "cell_type": "code",
      "metadata": {
        "id": "kmceoI03rcXN",
        "colab": {
          "base_uri": "https://localhost:8080/",
          "height": 867
        },
        "outputId": "51538f41-f709-40e1-cf88-43a06f875b28"
      },
      "source": [
        "onetime = ord.copy()\n",
        "onetime['count'] = ord.groupby('buyer_id')['order_id'].count()\n",
        "print(onetime.head())\n",
        "print(onetime.loc[(onetime['count'] == 1)])\n",
        "print(onetime.loc[(onetime['count'] > 1) & (onetime['count'] <= 5)])\n",
        "print(onetime.loc[(onetime['count'] > 5) & (onetime['count'] <= 10)])"
      ],
      "execution_count": null,
      "outputs": [
        {
          "output_type": "stream",
          "text": [
            "   order_id  seller_id  buyer_id  ...     paid_at  delivery_at  count\n",
            "0         3          5      4769  ...  2019-06-04   2019-06-12    NaN\n",
            "1         5         23      4276  ...  2019-04-05   2019-04-09    6.0\n",
            "2         8          4     14110  ...  2019-08-13   2019-08-20    2.0\n",
            "3        19          5      3831  ...         NaN          NaN    6.0\n",
            "4        31         46      5318  ...  2019-03-17   2019-03-20    2.0\n",
            "\n",
            "[5 rows x 11 columns]\n",
            "       order_id  seller_id  buyer_id  ...     paid_at  delivery_at  count\n",
            "15          104          8      8799  ...  2020-02-09   2020-02-13    1.0\n",
            "21          135         51      2716  ...  2019-11-19          NaN    1.0\n",
            "53          350         14      3382  ...         NaN          NaN    1.0\n",
            "58          369         44      8260  ...  2020-06-09   2020-06-11    1.0\n",
            "68          431         27     17466  ...  2019-12-12   2019-12-17    1.0\n",
            "...         ...        ...       ...  ...         ...          ...    ...\n",
            "17799    118626         59     11683  ...         NaN          NaN    1.0\n",
            "17818    118774         67      6790  ...  2019-12-02   2019-12-13    1.0\n",
            "17835    118865         45     15891  ...  2020-03-02   2020-03-07    1.0\n",
            "17846    118953         46      1325  ...  2019-05-04   2019-05-10    1.0\n",
            "17919    119406         17      9132  ...  2020-05-21   2020-05-31    1.0\n",
            "\n",
            "[716 rows x 11 columns]\n",
            "       order_id  seller_id  buyer_id  ...     paid_at  delivery_at  count\n",
            "2             8          4     14110  ...  2019-08-13   2019-08-20    2.0\n",
            "4            31         46      5318  ...  2019-03-17   2019-03-20    2.0\n",
            "5            33         68     16359  ...  2019-07-14   2019-07-14    2.0\n",
            "6            36          1      6523  ...  2019-04-11   2019-04-13    4.0\n",
            "7            48         44     13167  ...  2019-11-01   2019-11-12    2.0\n",
            "...         ...        ...       ...  ...         ...          ...    ...\n",
            "17931    119464         59     16057  ...  2019-09-25   2019-09-26    2.0\n",
            "17932    119468         39      7836  ...  2020-03-18   2020-03-22    5.0\n",
            "17933    119474         42     15885  ...  2019-10-28   2019-11-04    4.0\n",
            "17935    119489         60      2034  ...  2020-05-28   2020-06-05    2.0\n",
            "17936    119491         48      8787  ...  2019-11-26   2019-11-29    3.0\n",
            "\n",
            "[13347 rows x 11 columns]\n",
            "       order_id  seller_id  buyer_id  ...     paid_at  delivery_at  count\n",
            "1             5         23      4276  ...  2019-04-05   2019-04-09    6.0\n",
            "3            19          5      3831  ...         NaN          NaN    6.0\n",
            "8            58          4      2171  ...  2019-09-08   2019-09-19    6.0\n",
            "19          122         42       401  ...  2020-02-03   2020-02-07    6.0\n",
            "20          129          4      9861  ...  2020-02-02   2020-02-09    7.0\n",
            "...         ...        ...       ...  ...         ...          ...    ...\n",
            "17912    119378         63      5207  ...  2019-11-20   2019-12-02    8.0\n",
            "17918    119401         38     17165  ...  2019-07-07   2019-07-14    8.0\n",
            "17921    119410          8       310  ...  2020-01-28   2020-02-03    8.0\n",
            "17929    119461          1      6496  ...  2019-12-29   2019-12-30    8.0\n",
            "17934    119482         51      5887  ...  2020-05-05   2020-05-11    7.0\n",
            "\n",
            "[3794 rows x 11 columns]\n"
          ],
          "name": "stdout"
        }
      ]
    },
    {
      "cell_type": "markdown",
      "metadata": {
        "id": "890CpNFo0jzJ"
      },
      "source": [
        "Masalah yang muncul:\n",
        "\n",
        "*   Jumlah pembeli yang berkategori high value sangatlah sedikit (<1%) dibandingkan pembeli low value\n",
        "*   Jumlah revenue yang dihasilkan dikuasai oleh pembeli low value (>99%)\n",
        "*   Frekuensi pembelian masih didominasi sebanyak 2-5 kali\n",
        "*   Transaksi gagal berpotensi menyumbang 13% total pendapatan dan dilakukan oleh 0.84% customer\n",
        "*   Proses bisnis berpotensi tidak menguntungkan dengan terlalu lamanya jangka waktu melakukan pembayaran dan pengiriman\n",
        "\n",
        "\n",
        "\n",
        "\n"
      ]
    },
    {
      "cell_type": "markdown",
      "metadata": {
        "id": "EpB9_6UJ2Wo4"
      },
      "source": [
        "Rekomendasi:\n",
        "High value customer\n",
        "*   Memberikan penghargaan dapat berupa diskon loyalitas/member\n",
        "*   Memberikan layanan CS terbaik dan melakukan survei terhadap customer tersebut\n",
        "\n",
        "Low value customer\n",
        "*   Melakukan strategi retargeting terhadap customer yang sudah pernah melakukan pembelian\n",
        "*   Berinovasi dengan event-event\n",
        "\n",
        "\n"
      ]
    }
  ]
}